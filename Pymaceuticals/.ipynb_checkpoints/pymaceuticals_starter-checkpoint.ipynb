{
 "cells": [
  {
   "cell_type": "markdown",
   "metadata": {},
   "source": [
    "## Observations and Insights"
   ]
  },
  {
   "cell_type": "code",
   "execution_count": null,
   "metadata": {},
   "outputs": [],
   "source": [
    "#* Look across all previously generated figures and tables and write at least three observations or inferences that can be made from the data. Include these observations at the top of notebook.\n",
    "\n",
    "#1.Ketapril and Naftisol have the two highest standard deviations so their results are likely to be the least meaningful.\n",
    "#2.There are no outliers in the final tumor volumes according the the IQR\n",
    "#3.Capomulin and Ramicane had smaller final tumor size ranges than Ceftamin and Infubinol\n",
    "#4. Larger Mice has larger tumors.\n",
    "#5. \n",
    "\n",
    "\n",
    "\n"
   ]
  },
  {
   "cell_type": "markdown",
   "metadata": {},
   "source": []
  },
  {
   "cell_type": "markdown",
   "metadata": {},
   "source": [
    "## Dependencies and starter code"
   ]
  },
  {
   "cell_type": "code",
   "execution_count": 114,
   "metadata": {},
   "outputs": [],
   "source": [
    "# Dependencies and Setup\n",
    "%matplotlib inline\n",
    "import matplotlib.pyplot as plt\n",
    "import pandas as pd\n",
    "import scipy.stats as st\n",
    "import numpy as np\n",
    "from scipy.stats import sem\n",
    "from scipy.stats import linregress\n",
    "\n",
    "\n",
    "# Study data files\n",
    "mouse_metadata = \"data/Mouse_metadata.csv\"\n",
    "study_results = \"data/Study_results.csv\"\n",
    "\n",
    "# Read the mouse data and the study results\n",
    "mouse_metadata = pd.read_csv(mouse_metadata)\n",
    "study_results = pd.read_csv(study_results)\n",
    "\n",
    "# Combine the data into a single dataset"
   ]
  },
  {
   "cell_type": "markdown",
   "metadata": {},
   "source": [
    "## Summary statistics"
   ]
  },
  {
   "cell_type": "code",
   "execution_count": 115,
   "metadata": {},
   "outputs": [],
   "source": [
    "#mouse_metadata.head()"
   ]
  },
  {
   "cell_type": "code",
   "execution_count": 116,
   "metadata": {},
   "outputs": [],
   "source": [
    "#study_results.head()"
   ]
  },
  {
   "cell_type": "code",
   "execution_count": 117,
   "metadata": {},
   "outputs": [],
   "source": [
    "mouse_tumors = pd.merge(mouse_metadata, study_results, on=\"Mouse ID\")\n",
    "#mouse_tumors"
   ]
  },
  {
   "cell_type": "code",
   "execution_count": 118,
   "metadata": {},
   "outputs": [],
   "source": [
    "drug_list = mouse_tumors['Drug Regimen'].unique()\n",
    "drug_list\n",
    "\n",
    "drug_list_names=pd.DataFrame(drug_list, columns=['Drug Regimen']) "
   ]
  },
  {
   "cell_type": "code",
   "execution_count": 119,
   "metadata": {},
   "outputs": [],
   "source": [
    "### Generate a summary statistics table of #mean, #median, #variance, #standard deviation, and SEM of the tumor volume for each regimen\n",
    "volume_statistics = mouse_tumors.drop(columns=['Sex', 'Age_months', 'Weight (g)', 'Timepoint', 'Metastatic Sites'])\n",
    "\n",
    "mean_volume = volume_statistics.groupby('Drug Regimen').mean()\n",
    "median_volume = volume_statistics.groupby('Drug Regimen').median()\n",
    "variance_volume = volume_statistics.groupby('Drug Regimen').var()\n",
    "std_volume = volume_statistics.groupby('Drug Regimen').std()\n",
    "sem_volume = volume_statistics.groupby('Drug Regimen').sem()\n",
    "\n",
    "#mean_volume\n",
    "#median_volume\n",
    "#variance_volume\n",
    "#std_volume\n",
    "#sem_volume"
   ]
  },
  {
   "cell_type": "code",
   "execution_count": 7,
   "metadata": {},
   "outputs": [],
   "source": [
    "volume_data = pd.DataFrame(mean_volume)\n",
    "#volume_data"
   ]
  },
  {
   "cell_type": "code",
   "execution_count": 8,
   "metadata": {},
   "outputs": [],
   "source": [
    "###mean\n",
    "summary1 = pd.merge(drug_list_names, volume_data, how=\"left\", on=['Drug Regimen', 'Drug Regimen'])\n",
    "#summary1\n",
    "summary1a = summary1.rename(columns={\"Tumor Volume (mm3)\": \"Mean\"})\n",
    "#summary1a"
   ]
  },
  {
   "cell_type": "code",
   "execution_count": 9,
   "metadata": {},
   "outputs": [],
   "source": [
    "###median_volume\n",
    "median_data = pd.DataFrame(median_volume)\n",
    "#median_data\n",
    "summary2 = pd.merge(summary1a, median_data, how=\"left\", on=['Drug Regimen', 'Drug Regimen'])\n",
    "#summary2\n",
    "summary2a = summary2.rename(columns={\"Tumor Volume (mm3)\": \"Median\"})\n",
    "#summary2a"
   ]
  },
  {
   "cell_type": "code",
   "execution_count": 10,
   "metadata": {},
   "outputs": [],
   "source": [
    "###variance_volume\n",
    "variance_data = pd.DataFrame(variance_volume)\n",
    "#variance_data\n",
    "summary3 = pd.merge(summary2a, variance_data, how=\"left\", on=['Drug Regimen', 'Drug Regimen'])\n",
    "#summary3\n",
    "summary3a = summary3.rename(columns={\"Tumor Volume (mm3)\": \"Variance\"})\n",
    "#summary3a"
   ]
  },
  {
   "cell_type": "code",
   "execution_count": 11,
   "metadata": {},
   "outputs": [],
   "source": [
    "###std_volume\n",
    "std_data = pd.DataFrame(std_volume)\n",
    "#std_data\n",
    "summary4 = pd.merge(summary3a, std_data, how=\"left\", on=['Drug Regimen', 'Drug Regimen'])\n",
    "#summary4\n",
    "summary4a = summary4.rename(columns={\"Tumor Volume (mm3)\": \"Std Dev\"})\n",
    "#summary4a"
   ]
  },
  {
   "cell_type": "code",
   "execution_count": 120,
   "metadata": {},
   "outputs": [
    {
     "data": {
      "text/html": [
       "<div>\n",
       "<style scoped>\n",
       "    .dataframe tbody tr th:only-of-type {\n",
       "        vertical-align: middle;\n",
       "    }\n",
       "\n",
       "    .dataframe tbody tr th {\n",
       "        vertical-align: top;\n",
       "    }\n",
       "\n",
       "    .dataframe thead th {\n",
       "        text-align: right;\n",
       "    }\n",
       "</style>\n",
       "<table border=\"1\" class=\"dataframe\">\n",
       "  <thead>\n",
       "    <tr style=\"text-align: right;\">\n",
       "      <th></th>\n",
       "      <th>Drug Regimen</th>\n",
       "      <th>Mean</th>\n",
       "      <th>Median</th>\n",
       "      <th>Variance</th>\n",
       "      <th>Std Dev</th>\n",
       "      <th>SEM</th>\n",
       "    </tr>\n",
       "  </thead>\n",
       "  <tbody>\n",
       "    <tr>\n",
       "      <th>0</th>\n",
       "      <td>Ramicane</td>\n",
       "      <td>40.216745</td>\n",
       "      <td>40.673236</td>\n",
       "      <td>23.486704</td>\n",
       "      <td>4.846308</td>\n",
       "      <td>0.320955</td>\n",
       "    </tr>\n",
       "    <tr>\n",
       "      <th>1</th>\n",
       "      <td>Capomulin</td>\n",
       "      <td>40.675741</td>\n",
       "      <td>41.557809</td>\n",
       "      <td>24.947764</td>\n",
       "      <td>4.994774</td>\n",
       "      <td>0.329346</td>\n",
       "    </tr>\n",
       "    <tr>\n",
       "      <th>2</th>\n",
       "      <td>Infubinol</td>\n",
       "      <td>52.884795</td>\n",
       "      <td>51.820584</td>\n",
       "      <td>43.128684</td>\n",
       "      <td>6.567243</td>\n",
       "      <td>0.492236</td>\n",
       "    </tr>\n",
       "    <tr>\n",
       "      <th>3</th>\n",
       "      <td>Placebo</td>\n",
       "      <td>54.033581</td>\n",
       "      <td>52.288934</td>\n",
       "      <td>61.168083</td>\n",
       "      <td>7.821003</td>\n",
       "      <td>0.581331</td>\n",
       "    </tr>\n",
       "    <tr>\n",
       "      <th>4</th>\n",
       "      <td>Ceftamin</td>\n",
       "      <td>52.591172</td>\n",
       "      <td>51.776157</td>\n",
       "      <td>39.290177</td>\n",
       "      <td>6.268188</td>\n",
       "      <td>0.469821</td>\n",
       "    </tr>\n",
       "    <tr>\n",
       "      <th>5</th>\n",
       "      <td>Stelasyn</td>\n",
       "      <td>54.233149</td>\n",
       "      <td>52.431737</td>\n",
       "      <td>59.450562</td>\n",
       "      <td>7.710419</td>\n",
       "      <td>0.573111</td>\n",
       "    </tr>\n",
       "    <tr>\n",
       "      <th>6</th>\n",
       "      <td>Zoniferol</td>\n",
       "      <td>53.236507</td>\n",
       "      <td>51.818479</td>\n",
       "      <td>48.533355</td>\n",
       "      <td>6.966589</td>\n",
       "      <td>0.516398</td>\n",
       "    </tr>\n",
       "    <tr>\n",
       "      <th>7</th>\n",
       "      <td>Ketapril</td>\n",
       "      <td>55.235638</td>\n",
       "      <td>53.698743</td>\n",
       "      <td>68.553577</td>\n",
       "      <td>8.279709</td>\n",
       "      <td>0.603860</td>\n",
       "    </tr>\n",
       "    <tr>\n",
       "      <th>8</th>\n",
       "      <td>Propriva</td>\n",
       "      <td>52.322552</td>\n",
       "      <td>50.854632</td>\n",
       "      <td>42.351070</td>\n",
       "      <td>6.507770</td>\n",
       "      <td>0.512884</td>\n",
       "    </tr>\n",
       "    <tr>\n",
       "      <th>9</th>\n",
       "      <td>Naftisol</td>\n",
       "      <td>54.331565</td>\n",
       "      <td>52.509285</td>\n",
       "      <td>66.173479</td>\n",
       "      <td>8.134708</td>\n",
       "      <td>0.596466</td>\n",
       "    </tr>\n",
       "  </tbody>\n",
       "</table>\n",
       "</div>"
      ],
      "text/plain": [
       "  Drug Regimen       Mean     Median   Variance   Std Dev       SEM\n",
       "0     Ramicane  40.216745  40.673236  23.486704  4.846308  0.320955\n",
       "1    Capomulin  40.675741  41.557809  24.947764  4.994774  0.329346\n",
       "2    Infubinol  52.884795  51.820584  43.128684  6.567243  0.492236\n",
       "3      Placebo  54.033581  52.288934  61.168083  7.821003  0.581331\n",
       "4     Ceftamin  52.591172  51.776157  39.290177  6.268188  0.469821\n",
       "5     Stelasyn  54.233149  52.431737  59.450562  7.710419  0.573111\n",
       "6    Zoniferol  53.236507  51.818479  48.533355  6.966589  0.516398\n",
       "7     Ketapril  55.235638  53.698743  68.553577  8.279709  0.603860\n",
       "8     Propriva  52.322552  50.854632  42.351070  6.507770  0.512884\n",
       "9     Naftisol  54.331565  52.509285  66.173479  8.134708  0.596466"
      ]
     },
     "execution_count": 120,
     "metadata": {},
     "output_type": "execute_result"
    }
   ],
   "source": [
    "###sem_volume\n",
    "sem_data = pd.DataFrame(sem_volume)\n",
    "#sem_data\n",
    "#drop extra mouse column\n",
    "sem_data_drop = sem_data.drop(columns=['Mouse ID'])\n",
    "summary5 = pd.merge(summary4a, sem_data_drop, how=\"left\", on=['Drug Regimen', 'Drug Regimen'])\n",
    "#summary5\n",
    "summary_statistics_volume = summary5.rename(columns={\"Tumor Volume (mm3)\": \"SEM\"})\n",
    "summary_statistics_volume"
   ]
  },
  {
   "cell_type": "markdown",
   "metadata": {},
   "source": [
    "## Bar plots"
   ]
  },
  {
   "cell_type": "code",
   "execution_count": 13,
   "metadata": {},
   "outputs": [
    {
     "data": {
      "image/png": "[encoded data removed]",
      "text/plain": [
       "<Figure size 432x288 with 1 Axes>"
      ]
     },
     "metadata": {
      "needs_background": "light"
     },
     "output_type": "display_data"
    }
   ],
   "source": [
    "###Generate a bar plot showing number of data points for each treatment regimen using pandas\n",
    "###find counts\n",
    "treatment_group = mouse_tumors.groupby('Drug Regimen')\n",
    "treatment_group\n",
    "treatment_group_count = treatment_group['Drug Regimen'].count()\n",
    "treatment_group_count\n",
    "#create plot\n",
    "treatment_group_chart = treatment_group_count.plot(kind='bar')\n",
    "#create labels\n",
    "plt.title(\"Mouse Tumor Treatment\")\n",
    "plt.xlabel(\"Drug Name\")\n",
    "plt.ylabel(\"Number on Treatment\")\n",
    "#do the fancy design stuff\n",
    "plt.ylim(0, max(treatment_group_count)+50)\n",
    "plt.show()"
   ]
  },
  {
   "cell_type": "code",
   "execution_count": 14,
   "metadata": {},
   "outputs": [],
   "source": [
    "drug_names_list = mouse_tumors['Drug Regimen'].unique()\n",
    "drug_names_count = mouse_tumors.groupby('Drug Regimen')['Mouse ID'].count()\n",
    "#drug_names_list, drug_names_count"
   ]
  },
  {
   "cell_type": "code",
   "execution_count": 15,
   "metadata": {},
   "outputs": [
    {
     "data": {
      "image/png": "[encoded data removed]",
      "text/plain": [
       "<Figure size 432x288 with 1 Axes>"
      ]
     },
     "metadata": {
      "needs_background": "light"
     },
     "output_type": "display_data"
    }
   ],
   "source": [
    "### Generate a bar plot showing number of data points for each treatment regimen using pyplot\n",
    "#plt.style.use('ggplot')\n",
    "x = drug_names_list\n",
    "energy = drug_names_count\n",
    "plt.bar(x, energy, color='magenta', width=.5,  alpha=0.5)\n",
    "plt.xlabel(\"Drug Name\")\n",
    "plt.ylabel(\"Mice on Drug Treatment\")\n",
    "plt.title(\"Mice Tumor Treatment\")\n",
    "plt.xticks(rotation=45)\n",
    "plt.show()"
   ]
  },
  {
   "cell_type": "markdown",
   "metadata": {},
   "source": [
    "## Pie plots"
   ]
  },
  {
   "cell_type": "code",
   "execution_count": 16,
   "metadata": {},
   "outputs": [],
   "source": [
    "##create Sex groupby\n",
    "mouse_sex = mouse_tumors.groupby('Sex')\n",
    "##count mice when grouped by sex\n",
    "mouse_sex_count = mouse_tumors.groupby('Sex')['Mouse ID'].count()\n",
    "##turn results into a dataframe\n",
    "mouse_sex_count_data_df = pd.DataFrame(mouse_sex_count)\n",
    "#mouse_sex_count_data_df\n",
    "##rename columns\n",
    "mouse_sex_count_data_df.rename(columns={list(mouse_sex_count_data_df)[0]:'Count'}, inplace=True)\n",
    "##convert/add the index into a column\n",
    "mouse_sex_count_data_df['Sex'] = mouse_sex_count_data_df.index\n",
    "#mouse_sex_count_data_df"
   ]
  },
  {
   "cell_type": "code",
   "execution_count": 17,
   "metadata": {},
   "outputs": [
    {
     "data": {
      "text/plain": [
       "<matplotlib.axes._subplots.AxesSubplot at 0x1a18492250>"
      ]
     },
     "execution_count": 17,
     "metadata": {},
     "output_type": "execute_result"
    },
    {
     "data": {
      "image/png": "[encoded data removed]",
      "text/plain": [
       "<Figure size 432x288 with 1 Axes>"
      ]
     },
     "metadata": {},
     "output_type": "display_data"
    }
   ],
   "source": [
    "### Generate a pie plot showing the distribution of female versus male mice using pandas\n",
    "##define variables\n",
    "sex = mouse_sex_count_data_df[\"Sex\"]\n",
    "count = mouse_sex_count_data_df[\"Count\"]\n",
    "##create the pie. this took me f.o.r.e.v.e.r. to figure out\n",
    "mouse_sex_count_data_df[\"Count\"].plot(kind='pie', labels=sex, colors=['r', 'g'], autopct='%.2f', fontsize=16)"
   ]
  },
  {
   "cell_type": "code",
   "execution_count": 18,
   "metadata": {},
   "outputs": [
    {
     "data": {
      "text/plain": [
       "(-1.1184789224411302,\n",
       " 1.1072403566344964,\n",
       " -1.1146713080147752,\n",
       " 1.1083483883711265)"
      ]
     },
     "execution_count": 18,
     "metadata": {},
     "output_type": "execute_result"
    },
    {
     "data": {
      "image/png": "[encoded data removed]",
      "text/plain": [
       "<Figure size 432x288 with 1 Axes>"
      ]
     },
     "metadata": {},
     "output_type": "display_data"
    }
   ],
   "source": [
    "### Generate a pie plot showing the distribution of female versus male mice using pyplot\n",
    "### Labels for the sections of our pie chart\n",
    "labels =mouse_sex_count_data_df[\"Sex\"]\n",
    "### The values of each section of the pie chart\n",
    "sizes = mouse_sex_count_data_df[\"Count\"]\n",
    "### The colors of each section of the pie chart\n",
    "colors = [\"pink\", \"blue\"]\n",
    "###Creates the pie chart based upon the values above\n",
    "###Automatically finds the percentages of each part of the pie chart\n",
    "plt.pie(sizes, colors=colors, autopct=\"%1.1f%%\", labels=labels, shadow=True, startangle=140)\n",
    "### Tells matplotlib that we want a pie chart with equal axes\n",
    "plt.axis(\"equal\")"
   ]
  },
  {
   "cell_type": "markdown",
   "metadata": {},
   "source": [
    "## Quartiles, outliers and boxplots"
   ]
  },
  {
   "cell_type": "code",
   "execution_count": 19,
   "metadata": {},
   "outputs": [
    {
     "data": {
      "text/html": [
       "<div>\n",
       "<style scoped>\n",
       "    .dataframe tbody tr th:only-of-type {\n",
       "        vertical-align: middle;\n",
       "    }\n",
       "\n",
       "    .dataframe tbody tr th {\n",
       "        vertical-align: top;\n",
       "    }\n",
       "\n",
       "    .dataframe thead th {\n",
       "        text-align: right;\n",
       "    }\n",
       "</style>\n",
       "<table border=\"1\" class=\"dataframe\">\n",
       "  <thead>\n",
       "    <tr style=\"text-align: right;\">\n",
       "      <th></th>\n",
       "      <th>Mouse ID</th>\n",
       "      <th>Drug Regimen</th>\n",
       "      <th>Sex</th>\n",
       "      <th>Age_months</th>\n",
       "      <th>Weight (g)</th>\n",
       "      <th>Timepoint</th>\n",
       "      <th>Tumor Volume (mm3)</th>\n",
       "      <th>Metastatic Sites</th>\n",
       "    </tr>\n",
       "  </thead>\n",
       "  <tbody>\n",
       "    <tr>\n",
       "      <th>0</th>\n",
       "      <td>k403</td>\n",
       "      <td>Ramicane</td>\n",
       "      <td>Male</td>\n",
       "      <td>21</td>\n",
       "      <td>16</td>\n",
       "      <td>0</td>\n",
       "      <td>45.000000</td>\n",
       "      <td>0</td>\n",
       "    </tr>\n",
       "    <tr>\n",
       "      <th>1</th>\n",
       "      <td>k403</td>\n",
       "      <td>Ramicane</td>\n",
       "      <td>Male</td>\n",
       "      <td>21</td>\n",
       "      <td>16</td>\n",
       "      <td>5</td>\n",
       "      <td>38.825898</td>\n",
       "      <td>0</td>\n",
       "    </tr>\n",
       "    <tr>\n",
       "      <th>2</th>\n",
       "      <td>k403</td>\n",
       "      <td>Ramicane</td>\n",
       "      <td>Male</td>\n",
       "      <td>21</td>\n",
       "      <td>16</td>\n",
       "      <td>10</td>\n",
       "      <td>35.014271</td>\n",
       "      <td>1</td>\n",
       "    </tr>\n",
       "    <tr>\n",
       "      <th>3</th>\n",
       "      <td>k403</td>\n",
       "      <td>Ramicane</td>\n",
       "      <td>Male</td>\n",
       "      <td>21</td>\n",
       "      <td>16</td>\n",
       "      <td>15</td>\n",
       "      <td>34.223992</td>\n",
       "      <td>1</td>\n",
       "    </tr>\n",
       "    <tr>\n",
       "      <th>4</th>\n",
       "      <td>k403</td>\n",
       "      <td>Ramicane</td>\n",
       "      <td>Male</td>\n",
       "      <td>21</td>\n",
       "      <td>16</td>\n",
       "      <td>20</td>\n",
       "      <td>32.997729</td>\n",
       "      <td>1</td>\n",
       "    </tr>\n",
       "  </tbody>\n",
       "</table>\n",
       "</div>"
      ],
      "text/plain": [
       "  Mouse ID Drug Regimen   Sex  Age_months  Weight (g)  Timepoint  \\\n",
       "0     k403     Ramicane  Male          21          16          0   \n",
       "1     k403     Ramicane  Male          21          16          5   \n",
       "2     k403     Ramicane  Male          21          16         10   \n",
       "3     k403     Ramicane  Male          21          16         15   \n",
       "4     k403     Ramicane  Male          21          16         20   \n",
       "\n",
       "   Tumor Volume (mm3)  Metastatic Sites  \n",
       "0           45.000000                 0  \n",
       "1           38.825898                 0  \n",
       "2           35.014271                 1  \n",
       "3           34.223992                 1  \n",
       "4           32.997729                 1  "
      ]
     },
     "execution_count": 19,
     "metadata": {},
     "output_type": "execute_result"
    }
   ],
   "source": [
    "mouse_tumors.head(5)"
   ]
  },
  {
   "cell_type": "code",
   "execution_count": 20,
   "metadata": {},
   "outputs": [],
   "source": [
    "##find unique Mouse ID's so I know how many mice there are (249)\n",
    "unique_mouse_names = mouse_tumors['Mouse ID'].unique()\n",
    "#unique_mouse_names\n",
    "##create dataframe of mouse ID for later use\n",
    "unique_mouse = pd.DataFrame(unique_mouse_names, columns = ['mouse_id'])\n",
    "#unique_mouse\n",
    "#mouse_tumors.dtypes"
   ]
  },
  {
   "cell_type": "code",
   "execution_count": 49,
   "metadata": {},
   "outputs": [],
   "source": [
    "##drop all columns not needed for current analysis.\n",
    "promising_treatments = mouse_tumors.drop(columns=['Sex', 'Age_months', 'Weight (g)', 'Metastatic Sites'])\n",
    "##separate out data based on the 4 Drugs being analyzed    \n",
    "promising_mice_capomulin = promising_treatments[promising_treatments['Drug Regimen'] == \"Capomulin\"] \n",
    "promising_mice_ramicane = promising_treatments[promising_treatments['Drug Regimen'] == \"Ramicane\"] \n",
    "promising_mice_infubinol = promising_treatments[promising_treatments['Drug Regimen'] == \"Infubinol\"] \n",
    "promising_mice_ceftamin = promising_treatments[promising_treatments['Drug Regimen'] == \"Ceftamin\"] \n"
   ]
  },
  {
   "cell_type": "code",
   "execution_count": 50,
   "metadata": {},
   "outputs": [],
   "source": [
    "########## ceftamin ##############\n",
    "##seeing how far each mouse made it in testing..\n",
    "placeholder_ceftamin = promising_mice_ceftamin.groupby('Mouse ID')['Timepoint'].max() \n",
    "#placeholder_ceftamin\n",
    "##create dataframe w each mouse and their final timeframe\n",
    "ceftamin_final_timepoint = pd.DataFrame(placeholder_ceftamin)\n",
    "#ceftamin_final_timepoint\n",
    "##the results.\n",
    "ceftamin_final_timepoint_volume = ceftamin_final_timepoint.merge(promising_mice_ceftamin, how='inner', left_on=['Mouse ID', 'Timepoint'], right_on=['Mouse ID', 'Timepoint'])\n",
    "#ceftamin_final_timepoint_volume"
   ]
  },
  {
   "cell_type": "code",
   "execution_count": 51,
   "metadata": {},
   "outputs": [],
   "source": [
    "########## ramicane ##############\n",
    "##seeing how far each mouse made it in testing.\n",
    "placeholder_ramicane = promising_mice_ramicane.groupby('Mouse ID')['Timepoint'].max() \n",
    "#placeholder_ramicane\n",
    "##create dataframe w each mouse and their final timeframe\n",
    "ramicane_final_timepoint = pd.DataFrame(placeholder_ramicane)\n",
    "#ramicane_final_timepoint\n",
    "##the results.\n",
    "ramicane_final_timepoint_volume = ramicane_final_timepoint.merge(promising_mice_ramicane, how='inner', left_on=['Mouse ID', 'Timepoint'], right_on=['Mouse ID', 'Timepoint'])\n",
    "#ramicane_final_timepoint_volume\n"
   ]
  },
  {
   "cell_type": "code",
   "execution_count": 128,
   "metadata": {
    "scrolled": true
   },
   "outputs": [
    {
     "data": {
      "text/html": [
       "<div>\n",
       "<style scoped>\n",
       "    .dataframe tbody tr th:only-of-type {\n",
       "        vertical-align: middle;\n",
       "    }\n",
       "\n",
       "    .dataframe tbody tr th {\n",
       "        vertical-align: top;\n",
       "    }\n",
       "\n",
       "    .dataframe thead th {\n",
       "        text-align: right;\n",
       "    }\n",
       "</style>\n",
       "<table border=\"1\" class=\"dataframe\">\n",
       "  <thead>\n",
       "    <tr style=\"text-align: right;\">\n",
       "      <th></th>\n",
       "      <th>Mouse ID</th>\n",
       "      <th>Timepoint</th>\n",
       "      <th>Drug Regimen</th>\n",
       "      <th>Tumor Volume (mm3)</th>\n",
       "    </tr>\n",
       "  </thead>\n",
       "  <tbody>\n",
       "    <tr>\n",
       "      <th>0</th>\n",
       "      <td>a203</td>\n",
       "      <td>45</td>\n",
       "      <td>Infubinol</td>\n",
       "      <td>67.973419</td>\n",
       "    </tr>\n",
       "    <tr>\n",
       "      <th>1</th>\n",
       "      <td>a251</td>\n",
       "      <td>45</td>\n",
       "      <td>Infubinol</td>\n",
       "      <td>65.525743</td>\n",
       "    </tr>\n",
       "    <tr>\n",
       "      <th>2</th>\n",
       "      <td>a577</td>\n",
       "      <td>30</td>\n",
       "      <td>Infubinol</td>\n",
       "      <td>57.031862</td>\n",
       "    </tr>\n",
       "    <tr>\n",
       "      <th>3</th>\n",
       "      <td>a685</td>\n",
       "      <td>45</td>\n",
       "      <td>Infubinol</td>\n",
       "      <td>66.083066</td>\n",
       "    </tr>\n",
       "    <tr>\n",
       "      <th>4</th>\n",
       "      <td>c139</td>\n",
       "      <td>45</td>\n",
       "      <td>Infubinol</td>\n",
       "      <td>72.226731</td>\n",
       "    </tr>\n",
       "    <tr>\n",
       "      <th>5</th>\n",
       "      <td>c326</td>\n",
       "      <td>5</td>\n",
       "      <td>Infubinol</td>\n",
       "      <td>36.321346</td>\n",
       "    </tr>\n",
       "    <tr>\n",
       "      <th>6</th>\n",
       "      <td>c895</td>\n",
       "      <td>30</td>\n",
       "      <td>Infubinol</td>\n",
       "      <td>60.969711</td>\n",
       "    </tr>\n",
       "    <tr>\n",
       "      <th>7</th>\n",
       "      <td>e476</td>\n",
       "      <td>45</td>\n",
       "      <td>Infubinol</td>\n",
       "      <td>62.435404</td>\n",
       "    </tr>\n",
       "    <tr>\n",
       "      <th>8</th>\n",
       "      <td>f345</td>\n",
       "      <td>45</td>\n",
       "      <td>Infubinol</td>\n",
       "      <td>60.918767</td>\n",
       "    </tr>\n",
       "    <tr>\n",
       "      <th>9</th>\n",
       "      <td>i386</td>\n",
       "      <td>40</td>\n",
       "      <td>Infubinol</td>\n",
       "      <td>67.289621</td>\n",
       "    </tr>\n",
       "    <tr>\n",
       "      <th>10</th>\n",
       "      <td>k483</td>\n",
       "      <td>45</td>\n",
       "      <td>Infubinol</td>\n",
       "      <td>66.196912</td>\n",
       "    </tr>\n",
       "    <tr>\n",
       "      <th>11</th>\n",
       "      <td>k804</td>\n",
       "      <td>35</td>\n",
       "      <td>Infubinol</td>\n",
       "      <td>62.117279</td>\n",
       "    </tr>\n",
       "    <tr>\n",
       "      <th>12</th>\n",
       "      <td>m756</td>\n",
       "      <td>5</td>\n",
       "      <td>Infubinol</td>\n",
       "      <td>47.010364</td>\n",
       "    </tr>\n",
       "    <tr>\n",
       "      <th>13</th>\n",
       "      <td>n671</td>\n",
       "      <td>30</td>\n",
       "      <td>Infubinol</td>\n",
       "      <td>60.165180</td>\n",
       "    </tr>\n",
       "    <tr>\n",
       "      <th>14</th>\n",
       "      <td>o809</td>\n",
       "      <td>35</td>\n",
       "      <td>Infubinol</td>\n",
       "      <td>55.629428</td>\n",
       "    </tr>\n",
       "    <tr>\n",
       "      <th>15</th>\n",
       "      <td>o813</td>\n",
       "      <td>5</td>\n",
       "      <td>Infubinol</td>\n",
       "      <td>45.699331</td>\n",
       "    </tr>\n",
       "    <tr>\n",
       "      <th>16</th>\n",
       "      <td>q132</td>\n",
       "      <td>30</td>\n",
       "      <td>Infubinol</td>\n",
       "      <td>54.656549</td>\n",
       "    </tr>\n",
       "    <tr>\n",
       "      <th>17</th>\n",
       "      <td>s121</td>\n",
       "      <td>25</td>\n",
       "      <td>Infubinol</td>\n",
       "      <td>55.650681</td>\n",
       "    </tr>\n",
       "    <tr>\n",
       "      <th>18</th>\n",
       "      <td>v339</td>\n",
       "      <td>5</td>\n",
       "      <td>Infubinol</td>\n",
       "      <td>46.250112</td>\n",
       "    </tr>\n",
       "    <tr>\n",
       "      <th>19</th>\n",
       "      <td>v719</td>\n",
       "      <td>20</td>\n",
       "      <td>Infubinol</td>\n",
       "      <td>54.048608</td>\n",
       "    </tr>\n",
       "    <tr>\n",
       "      <th>20</th>\n",
       "      <td>v766</td>\n",
       "      <td>15</td>\n",
       "      <td>Infubinol</td>\n",
       "      <td>51.542431</td>\n",
       "    </tr>\n",
       "    <tr>\n",
       "      <th>21</th>\n",
       "      <td>w193</td>\n",
       "      <td>20</td>\n",
       "      <td>Infubinol</td>\n",
       "      <td>50.005138</td>\n",
       "    </tr>\n",
       "    <tr>\n",
       "      <th>22</th>\n",
       "      <td>w584</td>\n",
       "      <td>30</td>\n",
       "      <td>Infubinol</td>\n",
       "      <td>58.268442</td>\n",
       "    </tr>\n",
       "    <tr>\n",
       "      <th>23</th>\n",
       "      <td>y163</td>\n",
       "      <td>45</td>\n",
       "      <td>Infubinol</td>\n",
       "      <td>67.685569</td>\n",
       "    </tr>\n",
       "    <tr>\n",
       "      <th>24</th>\n",
       "      <td>z581</td>\n",
       "      <td>45</td>\n",
       "      <td>Infubinol</td>\n",
       "      <td>62.754451</td>\n",
       "    </tr>\n",
       "  </tbody>\n",
       "</table>\n",
       "</div>"
      ],
      "text/plain": [
       "   Mouse ID  Timepoint Drug Regimen  Tumor Volume (mm3)\n",
       "0      a203         45    Infubinol           67.973419\n",
       "1      a251         45    Infubinol           65.525743\n",
       "2      a577         30    Infubinol           57.031862\n",
       "3      a685         45    Infubinol           66.083066\n",
       "4      c139         45    Infubinol           72.226731\n",
       "5      c326          5    Infubinol           36.321346\n",
       "6      c895         30    Infubinol           60.969711\n",
       "7      e476         45    Infubinol           62.435404\n",
       "8      f345         45    Infubinol           60.918767\n",
       "9      i386         40    Infubinol           67.289621\n",
       "10     k483         45    Infubinol           66.196912\n",
       "11     k804         35    Infubinol           62.117279\n",
       "12     m756          5    Infubinol           47.010364\n",
       "13     n671         30    Infubinol           60.165180\n",
       "14     o809         35    Infubinol           55.629428\n",
       "15     o813          5    Infubinol           45.699331\n",
       "16     q132         30    Infubinol           54.656549\n",
       "17     s121         25    Infubinol           55.650681\n",
       "18     v339          5    Infubinol           46.250112\n",
       "19     v719         20    Infubinol           54.048608\n",
       "20     v766         15    Infubinol           51.542431\n",
       "21     w193         20    Infubinol           50.005138\n",
       "22     w584         30    Infubinol           58.268442\n",
       "23     y163         45    Infubinol           67.685569\n",
       "24     z581         45    Infubinol           62.754451"
      ]
     },
     "execution_count": 128,
     "metadata": {},
     "output_type": "execute_result"
    }
   ],
   "source": [
    "########## infubinol ##############\n",
    "##seeing how far each mouse made it in testing.\n",
    "placeholder_infubinol = promising_mice_infubinol.groupby('Mouse ID')['Timepoint'].max() \n",
    "#placeholder_infubinol\n",
    "##create dataframe w each mouse and their final timeframe\n",
    "infubinol_final_timepoint = pd.DataFrame(placeholder_infubinol)\n",
    "#infubinol_final_timepoint\n",
    "##the results.\n",
    "infubinol_final_timepoint_volume = infubinol_final_timepoint.merge(promising_mice_infubinol, how='inner', left_on=['Mouse ID', 'Timepoint'], right_on=['Mouse ID', 'Timepoint'])\n",
    "infubinol_final_timepoint_volume\n"
   ]
  },
  {
   "cell_type": "code",
   "execution_count": 89,
   "metadata": {},
   "outputs": [],
   "source": [
    "########## capomulin ##############\n",
    "##seeing how far each mouse made it in testing..\n",
    "placeholder_capomulin = promising_mice_capomulin.groupby('Mouse ID')['Timepoint'].max() \n",
    "#placeholder_capomulin\n",
    "##create dataframe w each mouse and their final timeframe\n",
    "capomulin_final_timepoint = pd.DataFrame(placeholder_capomulin)\n",
    "#capomulin_final_timepoint\n",
    "##the results.\n",
    "capomulin_final_timepoint_volume = capomulin_final_timepoint.merge(promising_mice_capomulin, how='inner', left_on=['Mouse ID', 'Timepoint'], right_on=['Mouse ID', 'Timepoint'])\n",
    "#capomulin_final_timepoint_volume\n",
    "\n"
   ]
  },
  {
   "cell_type": "code",
   "execution_count": 83,
   "metadata": {},
   "outputs": [
    {
     "data": {
      "text/html": [
       "<div>\n",
       "<style scoped>\n",
       "    .dataframe tbody tr th:only-of-type {\n",
       "        vertical-align: middle;\n",
       "    }\n",
       "\n",
       "    .dataframe tbody tr th {\n",
       "        vertical-align: top;\n",
       "    }\n",
       "\n",
       "    .dataframe thead th {\n",
       "        text-align: right;\n",
       "    }\n",
       "</style>\n",
       "<table border=\"1\" class=\"dataframe\">\n",
       "  <thead>\n",
       "    <tr style=\"text-align: right;\">\n",
       "      <th></th>\n",
       "      <th>index</th>\n",
       "      <th>Mouse ID</th>\n",
       "      <th>Final Timepoint</th>\n",
       "      <th>Drug Regimen</th>\n",
       "      <th>Final Tumor Volume (mm3)</th>\n",
       "    </tr>\n",
       "  </thead>\n",
       "  <tbody>\n",
       "    <tr>\n",
       "      <th>0</th>\n",
       "      <td>0</td>\n",
       "      <td>b128</td>\n",
       "      <td>45</td>\n",
       "      <td>Capomulin</td>\n",
       "      <td>38.982878</td>\n",
       "    </tr>\n",
       "    <tr>\n",
       "      <th>1</th>\n",
       "      <td>1</td>\n",
       "      <td>b742</td>\n",
       "      <td>45</td>\n",
       "      <td>Capomulin</td>\n",
       "      <td>38.939633</td>\n",
       "    </tr>\n",
       "    <tr>\n",
       "      <th>2</th>\n",
       "      <td>2</td>\n",
       "      <td>f966</td>\n",
       "      <td>20</td>\n",
       "      <td>Capomulin</td>\n",
       "      <td>30.485985</td>\n",
       "    </tr>\n",
       "    <tr>\n",
       "      <th>3</th>\n",
       "      <td>3</td>\n",
       "      <td>g288</td>\n",
       "      <td>45</td>\n",
       "      <td>Capomulin</td>\n",
       "      <td>37.074024</td>\n",
       "    </tr>\n",
       "    <tr>\n",
       "      <th>4</th>\n",
       "      <td>4</td>\n",
       "      <td>g316</td>\n",
       "      <td>45</td>\n",
       "      <td>Capomulin</td>\n",
       "      <td>40.159220</td>\n",
       "    </tr>\n",
       "    <tr>\n",
       "      <th>...</th>\n",
       "      <td>...</td>\n",
       "      <td>...</td>\n",
       "      <td>...</td>\n",
       "      <td>...</td>\n",
       "      <td>...</td>\n",
       "    </tr>\n",
       "    <tr>\n",
       "      <th>95</th>\n",
       "      <td>20</td>\n",
       "      <td>s508</td>\n",
       "      <td>45</td>\n",
       "      <td>Ramicane</td>\n",
       "      <td>30.276232</td>\n",
       "    </tr>\n",
       "    <tr>\n",
       "      <th>96</th>\n",
       "      <td>21</td>\n",
       "      <td>u196</td>\n",
       "      <td>45</td>\n",
       "      <td>Ramicane</td>\n",
       "      <td>40.667713</td>\n",
       "    </tr>\n",
       "    <tr>\n",
       "      <th>97</th>\n",
       "      <td>22</td>\n",
       "      <td>w678</td>\n",
       "      <td>5</td>\n",
       "      <td>Ramicane</td>\n",
       "      <td>43.166373</td>\n",
       "    </tr>\n",
       "    <tr>\n",
       "      <th>98</th>\n",
       "      <td>23</td>\n",
       "      <td>y449</td>\n",
       "      <td>15</td>\n",
       "      <td>Ramicane</td>\n",
       "      <td>44.183451</td>\n",
       "    </tr>\n",
       "    <tr>\n",
       "      <th>99</th>\n",
       "      <td>24</td>\n",
       "      <td>z578</td>\n",
       "      <td>45</td>\n",
       "      <td>Ramicane</td>\n",
       "      <td>30.638696</td>\n",
       "    </tr>\n",
       "  </tbody>\n",
       "</table>\n",
       "<p>100 rows × 5 columns</p>\n",
       "</div>"
      ],
      "text/plain": [
       "    index Mouse ID  Final Timepoint Drug Regimen  Final Tumor Volume (mm3)\n",
       "0       0     b128               45    Capomulin                 38.982878\n",
       "1       1     b742               45    Capomulin                 38.939633\n",
       "2       2     f966               20    Capomulin                 30.485985\n",
       "3       3     g288               45    Capomulin                 37.074024\n",
       "4       4     g316               45    Capomulin                 40.159220\n",
       "..    ...      ...              ...          ...                       ...\n",
       "95     20     s508               45     Ramicane                 30.276232\n",
       "96     21     u196               45     Ramicane                 40.667713\n",
       "97     22     w678                5     Ramicane                 43.166373\n",
       "98     23     y449               15     Ramicane                 44.183451\n",
       "99     24     z578               45     Ramicane                 30.638696\n",
       "\n",
       "[100 rows x 5 columns]"
      ]
     },
     "execution_count": 83,
     "metadata": {},
     "output_type": "execute_result"
    }
   ],
   "source": [
    "# Calculate the final tumor volume of each mouse across four of the most promising treatment regimens.\n",
    "#(Capomulin, Ramicane, Infubinol, and Ceftamin)\n",
    "#stacking all the previous results into 1 dataframe\n",
    "combine_promising_treatments = (capomulin_final_timepoint_volume, infubinol_final_timepoint_volume, ceftamin_final_timepoint_volume, ramicane_final_timepoint_volume)\n",
    "most_promising_treatments = pd.concat(combine_promising_treatments)\n",
    "most_promising_treatments\n",
    "#rename columns for clarity\n",
    "\n",
    "volume_most_promising_treatments = most_promising_treatments.rename(columns={\"Timepoint\": \"Final Timepoint\", \"Tumor Volume (mm3)\": \"Final Tumor Volume (mm3)\"})\n",
    "\n",
    "final_volume_most_promising_treatments = volume_most_promising_treatments.reset_index()\n",
    "\n",
    "final_volume_most_promising_treatments\n",
    "\n",
    "\n"
   ]
  },
  {
   "cell_type": "code",
   "execution_count": 84,
   "metadata": {},
   "outputs": [
    {
     "name": "stdout",
     "output_type": "stream",
     "text": [
      "The lower quartile of volume_outliers is: 37.187743802499995\n",
      "The upper quartile of volume_outliers is: 59.930261755000004\n",
      "The interquartile range of volume_outliers is: 22.74251795250001\n",
      "The the median of volume_outliers is: 45.0 \n",
      "Values below 3.0739668737499812 could be outliers.\n",
      "Values above 94.04403868375002 could be outliers.\n"
     ]
    }
   ],
   "source": [
    "#Calculate the quartiles and IQR and quantitatively determine if there are any potential outliers across all four treatment regimens\n",
    "volume_outliers = final_volume_most_promising_treatments['Final Tumor Volume (mm3)']\n",
    "\n",
    "quartiles = volume_outliers.quantile([.25,.5,.75])\n",
    "lowerq = quartiles[0.25]\n",
    "upperq = quartiles[0.75]\n",
    "iqr = upperq-lowerq\n",
    "\n",
    "print(f\"The lower quartile of volume_outliers is: {lowerq}\")\n",
    "print(f\"The upper quartile of volume_outliers is: {upperq}\")\n",
    "print(f\"The interquartile range of volume_outliers is: {iqr}\")\n",
    "print(f\"The the median of volume_outliers is: {quartiles[0.5]} \")\n",
    "\n",
    "lower_bound = lowerq - (1.5*iqr)\n",
    "upper_bound = upperq + (1.5*iqr)\n",
    "print(f\"Values below {lower_bound} could be outliers.\")\n",
    "print(f\"Values above {upper_bound} could be outliers.\")"
   ]
  },
  {
   "cell_type": "code",
   "execution_count": 127,
   "metadata": {},
   "outputs": [
    {
     "data": {
      "text/plain": [
       "array([38.98287774, 38.93963263, 30.48598484, 37.07402422, 40.1592203 ,\n",
       "       47.68596303, 37.31184577, 38.1251644 , 38.75326548, 41.48300765,\n",
       "       38.84687569, 28.43096411, 33.32909778, 46.53920617, 32.37735684,\n",
       "       41.58152074, 23.34359787, 40.72857787, 34.45529799, 31.02392294,\n",
       "       40.65812366, 39.95234669, 36.04104736, 28.48403281, 31.8962384 ,\n",
       "       67.97341878, 65.52574285, 57.03186187, 66.08306589, 72.2267309 ,\n",
       "       36.3213458 , 60.96971133, 62.43540402, 60.91876652, 67.28962147,\n",
       "       66.19691151, 62.11727887, 47.01036401, 60.16518046, 55.62942846,\n",
       "       45.69933088, 54.65654872, 55.65068132, 46.25011212, 54.04860769,\n",
       "       51.54243058, 50.00513807, 58.26844248, 67.68556862, 62.75445141,\n",
       "       62.99935619, 45.        , 56.05774909, 55.74282869, 48.72207785,\n",
       "       47.7846818 , 61.84902336, 68.92318457, 67.74866174, 57.91838132,\n",
       "       46.78453491, 59.85195552, 64.29983003, 59.74190064, 61.43389223,\n",
       "       64.19234114, 52.92534846, 67.52748237, 64.63494887, 61.38666032,\n",
       "       68.59474498, 64.72983655, 38.4076183 , 43.0475426 , 38.81036633,\n",
       "       32.97852192, 38.34200823, 33.39765251, 37.31123552, 40.65900627,\n",
       "       29.12847181, 33.56240217, 36.37451039, 31.56046955, 36.13485243,\n",
       "       22.05012627, 30.56462509, 31.09533505, 45.22086888, 36.56165229,\n",
       "       37.22565033, 43.41938077, 30.27623175, 40.66771292, 43.16637266,\n",
       "       44.18345092, 30.63869575])"
      ]
     },
     "execution_count": 127,
     "metadata": {},
     "output_type": "execute_result"
    }
   ],
   "source": [
    "volume_outliers.unique()\n",
    "#there are no outliers"
   ]
  },
  {
   "cell_type": "code",
   "execution_count": 96,
   "metadata": {},
   "outputs": [],
   "source": [
    "# Generate a box plot of the final tumor volume of each mouse across four regimens of interest\n",
    "#  **Hint**: All four box plots should be within the same figure. Use this [Matplotlib documentation page]\n",
    "#(https://matplotlib.org/gallery/pyplots/boxplot_demo_pyplot.html#sphx-glr-gallery-pyplots-boxplot-demo-pyplot-py) for help with changing the style of the outliers."
   ]
  },
  {
   "cell_type": "code",
   "execution_count": 105,
   "metadata": {},
   "outputs": [
    {
     "data": {
      "image/png": "[encoded data removed]",
      "text/plain": [
       "<Figure size 432x288 with 1 Axes>"
      ]
     },
     "metadata": {
      "needs_background": "light"
     },
     "output_type": "display_data"
    }
   ],
   "source": [
    "##create seperate outlier datasets for each drug\n",
    "capomulin_outliers = capomulin_final_timepoint_volume['Tumor Volume (mm3)']\n",
    "ceftamin_outliers = ceftamin_final_timepoint_volume['Tumor Volume (mm3)']\n",
    "infubinol_outliers = infubinol_final_timepoint_volume['Tumor Volume (mm3)']\n",
    "ramicane_outliers = ramicane_final_timepoint_volume['Tumor Volume (mm3)']\n",
    "##set data\n",
    "data = [capomulin_outliers, ceftamin_outliers, infubinol_outliers, ramicane_outliers]\n",
    "##create labels for each boxplot for clarity\n",
    "labels = ('Capomulin', 'Ceftamin', 'Infubinol', 'Ramicane')\n",
    "fig1, ax1 = plt.subplots()\n",
    "ax1.boxplot(data)\n",
    "## add titles and labels\n",
    "ax1.set_title('Final Tumor Sizes')\n",
    "ax1.set_ylabel('Tumor Volume')\n",
    "plt.xticks(np.arange(len(labels))+1,labels)\n",
    "plt.show()"
   ]
  },
  {
   "cell_type": "markdown",
   "metadata": {},
   "source": [
    "## Line and scatter plots"
   ]
  },
  {
   "cell_type": "code",
   "execution_count": 102,
   "metadata": {},
   "outputs": [
    {
     "data": {
      "image/png": "[encoded data removed]",
      "text/plain": [
       "<Figure size 432x288 with 1 Axes>"
      ]
     },
     "metadata": {
      "needs_background": "light"
     },
     "output_type": "display_data"
    }
   ],
   "source": [
    "### Generate a line plot of time point versus tumor volume for a mouse treated with Capomulin\n",
    "#mouse_tumors\n",
    "capomulin_mice = mouse_tumors[mouse_tumors['Drug Regimen'] == \"Capomulin\"] \n",
    "##mouse s185 chosen for the example\n",
    "capomulin_s185= capomulin_mice[capomulin_mice['Mouse ID'] == \"s185\"]\n",
    "capomulin_s185\n",
    "##drop unneded columns\n",
    "capomulin_s185.drop(columns=['Sex', 'Age_months', 'Weight (g)', 'Metastatic Sites'])\n",
    "##input data for X and Y axis'\n",
    "x_axis = capomulin_s185['Timepoint']\n",
    "y_axis = capomulin_s185['Tumor Volume (mm3)']\n",
    "##plot data\n",
    "plt.plot(x_axis, y_axis)\n",
    "##add labels and title\n",
    "plt.title(\"Tumor Volume Over Time on Capomulin\")\n",
    "plt.xlabel(\"Timepoint\")\n",
    "plt.ylabel(\"Tumor Volume\")\n",
    "##show plot\n",
    "plt.show()"
   ]
  },
  {
   "cell_type": "code",
   "execution_count": 100,
   "metadata": {},
   "outputs": [],
   "source": [
    "capomulin_mice_vol_avg = capomulin_mice.groupby('Mouse ID')['Tumor Volume (mm3)'].mean()\n",
    "capomulin_mice_weight_avg = capomulin_mice.groupby('Mouse ID')['Weight (g)'].mean()\n",
    "#capomulin_mice_vol_avg, capomulin_mice_weight_avg"
   ]
  },
  {
   "cell_type": "code",
   "execution_count": 108,
   "metadata": {},
   "outputs": [
    {
     "data": {
      "image/png": "[encoded data removed]",
      "text/plain": [
       "<Figure size 432x288 with 1 Axes>"
      ]
     },
     "metadata": {
      "needs_background": "light"
     },
     "output_type": "display_data"
    }
   ],
   "source": [
    "### Generate a scatter plot of mouse weight versus average tumor volume for the Capomulin regimen\n",
    "#capomulin_mice\n",
    "##drop unneded columns\n",
    "capomulin_weight_volume = capomulin_mice.drop(columns=['Sex', 'Age_months', 'Timepoint', 'Metastatic Sites'])\n",
    "#capomulin_weight_volume\n",
    "##set axis'\n",
    "x_axis = capomulin_mice_weight_avg\n",
    "y_axis = capomulin_mice_vol_avg\n",
    "##create plot\n",
    "plt.scatter(x_axis, y_axis, marker=\"o\", facecolors=\"orange\", edgecolors=\"black\",\n",
    "            s=x_axis, alpha=0.95)\n",
    "##create title and labels\n",
    "plt.title(\"Mouse Weight v Tumor Volume\")\n",
    "plt.xlabel(\"Weight (g)\")\n",
    "plt.ylabel(\"Tumor Volume (mm3)\")\n",
    "plt.show()\n"
   ]
  },
  {
   "cell_type": "code",
   "execution_count": 111,
   "metadata": {},
   "outputs": [
    {
     "name": "stdout",
     "output_type": "stream",
     "text": [
      "The correlation between both factors is 0.84\n"
     ]
    }
   ],
   "source": [
    "###Calculate the correlation coefficient and linear regression model for mouse weight and average tumor volume\n",
    "###for the Capomulin regimen\n",
    "mouse_weight = capomulin_mice_vol_avg\n",
    "avg_tumor_volume = capomulin_mice_weight_avg\n",
    "correlation = st.pearsonr(mouse_weight,avg_tumor_volume)\n",
    "print(f\"The correlation between both factors is {round(correlation[0],2)}\")\n",
    "\n",
    "#capomulin_mice_vol_avg\n",
    "#capomulin_mice_weight_avg"
   ]
  },
  {
   "cell_type": "code",
   "execution_count": 113,
   "metadata": {},
   "outputs": [
    {
     "name": "stdout",
     "output_type": "stream",
     "text": [
      "y = 0.95x + 21.55\n"
     ]
    },
    {
     "data": {
      "image/png": "[encoded data removed]",
      "text/plain": [
       "<Figure size 432x288 with 1 Axes>"
      ]
     },
     "metadata": {
      "needs_background": "light"
     },
     "output_type": "display_data"
    }
   ],
   "source": [
    "###linear regression model for mouse weight and average tumor volume\n",
    "x_axis = capomulin_mice_weight_avg\n",
    "y_axis = capomulin_mice_vol_avg\n",
    "(slope, intercept, rvalue, pvalue, stderr) = linregress(x_axis, y_axis)\n",
    "regress_values = x_axis * slope + intercept\n",
    "line_eq = \"y = \" + str(round(slope,2)) + \"x + \" + str(round(intercept,2))\n",
    "plt.scatter(x_axis,y_axis)\n",
    "plt.plot(x_axis,regress_values,\"r-\")\n",
    "plt.annotate(line_eq,(6,10),fontsize=15,color=\"red\")\n",
    "plt.title(\"Mouse Weight v Tumor Volume\")\n",
    "plt.xlabel(\"Weight (g)\")\n",
    "plt.ylabel(\"Tumor Volume (mm3)\")\n",
    "print(line_eq)\n",
    "plt.show()\n"
   ]
  },
  {
   "cell_type": "code",
   "execution_count": 31,
   "metadata": {},
   "outputs": [],
   "source": []
  }
 ],
 "metadata": {
  "anaconda-cloud": {},
  "kernelspec": {
   "display_name": "Python 3",
   "language": "python",
   "name": "python3"
  },
  "language_info": {
   "codemirror_mode": {
    "name": "ipython",
    "version": 3
   },
   "file_extension": ".py",
   "mimetype": "text/x-python",
   "name": "python",
   "nbconvert_exporter": "python",
   "pygments_lexer": "ipython3",
   "version": "3.7.6"
  }
 },
 "nbformat": 4,
 "nbformat_minor": 2
}
